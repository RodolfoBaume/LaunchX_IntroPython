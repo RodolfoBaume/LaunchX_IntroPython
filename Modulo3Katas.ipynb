{
 "cells": [
  {
   "cell_type": "markdown",
   "metadata": {},
   "source": [
    "# Escenario: Imprimir mensajes de advertencia\n",
    "\n",
    "## Ejercicio - Escribir declaraciones if, else, y elif y uso de operadores and y or\n",
    "\n",
    "<center>\n",
    "    <img src=\"https://static.wikia.nocookie.net/esstarwars/images/1/1b/Hoth_Asteroid_Belt_TESB.png\" style=\"height:250px;\">\n",
    "</center>"
   ]
  },
  {
   "cell_type": "code",
   "execution_count": 1,
   "metadata": {},
   "outputs": [
    {
     "name": "stdout",
     "output_type": "stream",
     "text": [
      "¡Alerta! ¡Un asteroide se acerca con una velocidad peligrosa!\n"
     ]
    }
   ],
   "source": [
    "# Añadir el código necesario para crear una variable que guarde la velocidad del asteroide.\n",
    "# Escribe una expresión de prueba para calcular si necesita una advertencia.\n",
    "asteroide = 49\n",
    "\n",
    "# Agregue las instrucciones que se ejecutarán si la expresión de prueba es true o false.\n",
    "if asteroide > 25:\n",
    "    print('¡Alerta! ¡Un asteroide se acerca con una velocidad peligrosa!')\n",
    "else:\n",
    "    print('¡Sigue con tu día!')"
   ]
  },
  {
   "cell_type": "code",
   "execution_count": 6,
   "metadata": {},
   "outputs": [
    {
     "name": "stdout",
     "output_type": "stream",
     "text": [
      "¡Nada que ver aquí!\n"
     ]
    }
   ],
   "source": [
    "# Agrega el código para crear una variable para un asteroide que viaja a 19 km/s\n",
    "# Escribe varias expresiones de prueba para determinar si puedes ver el rayo de luz desde la tierra\n",
    "asteroide = 19\n",
    "\n",
    "# Agrega las instrucciones que se ejecutarán si las expresiones de prueba son True o False\n",
    "if asteroide > 20:\n",
    "    print('Look up! ¡Hay una luz mágica en el cielo!')\n",
    "elif asteroide == 20:\n",
    "    print('Look up! ¡Hay una luz mágica en el cielo!')\n",
    "else:\n",
    "    print('¡Nada que ver aquí!')"
   ]
  },
  {
   "cell_type": "code",
   "execution_count": 7,
   "metadata": {},
   "outputs": [
    {
     "name": "stdout",
     "output_type": "stream",
     "text": [
      "Look up! ¡Hay una luz mágica en el cielo!\n"
     ]
    }
   ],
   "source": [
    "# Agrega el código para crear nuevas variables para la velocidad y el tamaño del asteroide\n",
    "# Para probar el código, prueba con varias velocidades y tamaños\n",
    "velocidad_asteroide = 25\n",
    "tamano_asteroide = 40\n",
    "\n",
    "# Escribe varias expresiones de prueba o combinaciones de expresiones de prueba para determinar qué mensaje se debe enviar a Tierra.\n",
    "if velocidad_asteroide > 25 and tamano_asteroide > 25:\n",
    "    print('¡Alerta, Un asteroide muy peligroso viene hacia la Tierra!')\n",
    "elif velocidad_asteroide >= 20:\n",
    "    print('Look up! ¡Hay una luz mágica en el cielo!')\n",
    "elif tamano_asteroide < 25:\n",
    "    print('Nada que ver aquí :)')\n",
    "else:\n",
    "    print('Nada que ver aquí :)')"
   ]
  }
 ],
 "metadata": {
  "interpreter": {
   "hash": "b36b3667319c5500cd101d6fb719cd9d149791c3cb637e4d7f2561e2e543045b"
  },
  "kernelspec": {
   "display_name": "Python 3.9.1 64-bit",
   "language": "python",
   "name": "python3"
  },
  "language_info": {
   "codemirror_mode": {
    "name": "ipython",
    "version": 3
   },
   "file_extension": ".py",
   "mimetype": "text/x-python",
   "name": "python",
   "nbconvert_exporter": "python",
   "pygments_lexer": "ipython3",
   "version": "3.10.2"
  },
  "orig_nbformat": 4
 },
 "nbformat": 4,
 "nbformat_minor": 2
}
